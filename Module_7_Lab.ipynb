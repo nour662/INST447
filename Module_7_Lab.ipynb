{
 "cells": [
  {
   "cell_type": "markdown",
   "metadata": {},
   "source": [
    "# Exercise 7 Text Analysis\n",
    "\n",
    "Skills\n",
    "- learn to write regular expressions (re)\n",
    "\n",
    "Resources\n",
    "- https://docs.python.org/3/library/re.html\n",
    "- https://www.dataquest.io/blog/regex-cheatsheet/\n",
    "- http://www.pyregex.com/"
   ]
  },
  {
   "cell_type": "code",
   "execution_count": 2,
   "metadata": {
    "tags": []
   },
   "outputs": [],
   "source": [
    "# import modules\n",
    "import re, os\n",
    "import pandas as pd\n",
    "import numpy as np"
   ]
  },
  {
   "cell_type": "markdown",
   "metadata": {},
   "source": [
    "# Part A: Regular Expressions"
   ]
  },
  {
   "cell_type": "markdown",
   "metadata": {},
   "source": [
    "## Pattern Matching\n",
    "Here are some strings to practice creating regular expressions to match."
   ]
  },
  {
   "cell_type": "code",
   "execution_count": 9,
   "metadata": {},
   "outputs": [
    {
     "name": "stdout",
     "output_type": "stream",
     "text": [
      "<re.Match object; span=(0, 10), match='01/21/2018'>\n",
      "<re.Match object; span=(0, 10), match='12/12/2012'>\n",
      "<re.Match object; span=(0, 10), match='03/03/2018'>\n",
      "<re.Match object; span=(0, 10), match='01/21/2018'>\n",
      "<re.Match object; span=(0, 10), match='12/12/2012'>\n",
      "<re.Match object; span=(0, 10), match='03/03/2018'>\n"
     ]
    }
   ],
   "source": [
    "# write a regular expression to match dates of the form MM/DD/YYYY\n",
    "pattern01 = ['01/21/2018', '12/12/2012', '03/03/2018']\n",
    "\n",
    "# loop through pattern01\n",
    "# use your regular expression to search for a match\n",
    "# print the output to verify it matched the example pattern\n",
    "# example:\n",
    "# for x in pattern_object:\n",
    "#    print(INSERT REGEX SYNTAX HERE)\n",
    "\n",
    "\n",
    "for i in pattern01: \n",
    "    print(re.search('(\\d+[\\/]\\d+[\\/]\\d+)', i))"
   ]
  },
  {
   "cell_type": "code",
   "execution_count": 11,
   "metadata": {},
   "outputs": [
    {
     "name": "stdout",
     "output_type": "stream",
     "text": [
      "<re.Match object; span=(0, 13), match='March 8, 2017'>\n",
      "<re.Match object; span=(0, 16), match='January 15, 2018'>\n",
      "<re.Match object; span=(0, 11), match='May 3, 2017'>\n"
     ]
    }
   ],
   "source": [
    "# write a regular expression to match dates of the form Month Day, Year\n",
    "pattern02 = ['March 8, 2017', 'January 15, 2018', 'May 3, 2017']\n",
    "\n",
    "# loop through pattern02\n",
    "# use your regular expression to search for a match\n",
    "# print the output to verify it matched the example pattern\n",
    "\n",
    "for i in pattern02: \n",
    "    print(re.search('\\w+\\s\\d+.\\s\\d+', i))"
   ]
  },
  {
   "cell_type": "code",
   "execution_count": 7,
   "metadata": {},
   "outputs": [
    {
     "name": "stdout",
     "output_type": "stream",
     "text": [
      "<re.Match object; span=(0, 13), match='email@umd.edu'>\n",
      "<re.Match object; span=(0, 22), match='email@terpmail.umd.edu'>\n",
      "<re.Match object; span=(0, 19), match='some.email@ox.ac.uk'>\n"
     ]
    }
   ],
   "source": [
    "#  write a regular expression to match Email addresses of the form username@host\n",
    "pattern03 = ['email@umd.edu', 'email@terpmail.umd.edu', 'some.email@ox.ac.uk']\n",
    "\n",
    "# loop through pattern03\n",
    "# use your regular expression to search for a match\n",
    "# print the output to verify it matched the example pattern\n",
    "for i in pattern03: \n",
    "    print(re.search('[\\w\\.]+@[\\w\\.]+', i))"
   ]
  },
  {
   "cell_type": "code",
   "execution_count": 8,
   "metadata": {},
   "outputs": [
    {
     "name": "stdout",
     "output_type": "stream",
     "text": [
      "<re.Match object; span=(0, 11), match='111-11-1111'>\n",
      "<re.Match object; span=(0, 11), match='999-19-1919'>\n",
      "<re.Match object; span=(0, 11), match='888-12-3434'>\n"
     ]
    }
   ],
   "source": [
    "#  write a regular expression to match Social Security Numbers\n",
    "pattern04 = ['111-11-1111', '999-19-1919', '888-12-3434']\n",
    "\n",
    "# loop through pattern04\n",
    "# use your regular expression to search for a match\n",
    "# print the output to verify it matched the example pattern\n",
    "for i in pattern04: \n",
    "    print(re.search('\\d{3}[-]\\d{2}[-]\\d{4}', i))"
   ]
  },
  {
   "cell_type": "code",
   "execution_count": null,
   "metadata": {},
   "outputs": [],
   "source": []
  }
 ],
 "metadata": {
  "kernelspec": {
   "display_name": "Python 3 (ipykernel)",
   "language": "python",
   "name": "python3"
  },
  "language_info": {
   "codemirror_mode": {
    "name": "ipython",
    "version": 3
   },
   "file_extension": ".py",
   "mimetype": "text/x-python",
   "name": "python",
   "nbconvert_exporter": "python",
   "pygments_lexer": "ipython3",
   "version": "3.10.6"
  },
  "varInspector": {
   "cols": {
    "lenName": 16,
    "lenType": 16,
    "lenVar": 40
   },
   "kernels_config": {
    "python": {
     "delete_cmd_postfix": "",
     "delete_cmd_prefix": "del ",
     "library": "var_list.py",
     "varRefreshCmd": "print(var_dic_list())"
    },
    "r": {
     "delete_cmd_postfix": ") ",
     "delete_cmd_prefix": "rm(",
     "library": "var_list.r",
     "varRefreshCmd": "cat(var_dic_list()) "
    }
   },
   "types_to_exclude": [
    "module",
    "function",
    "builtin_function_or_method",
    "instance",
    "_Feature"
   ],
   "window_display": false
  }
 },
 "nbformat": 4,
 "nbformat_minor": 4
}
