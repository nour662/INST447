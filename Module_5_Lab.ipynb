{
 "cells": [
  {
   "cell_type": "markdown",
   "metadata": {},
   "source": [
    "# Lab 5 Data Structures\n",
    "\n",
    "Resources\n",
    "- https://pandas.pydata.org/pandas-docs/version/0.17.0/generated/pandas.io.json.json_normalize.html\n",
    "- https://pandas.pydata.org/pandas-docs/stable/generated/pandas.DataFrame.merge.html\n",
    "- https://docs.python.org/2/library/xml.etree.elementtree.html"
   ]
  },
  {
   "cell_type": "code",
   "execution_count": 1,
   "metadata": {
    "tags": []
   },
   "outputs": [],
   "source": [
    "# import modules\n",
    "import pandas as pd\n",
    "import numpy as np\n",
    "\n",
    "from pandas.io.json import json_normalize #special package in pandas\n",
    "import json\n",
    "from lxml import etree\n",
    "import sqlite3"
   ]
  },
  {
   "cell_type": "markdown",
   "metadata": {},
   "source": [
    "# Part A: Reading json"
   ]
  },
  {
   "cell_type": "code",
   "execution_count": 2,
   "metadata": {},
   "outputs": [],
   "source": [
    "# Run this cell to import the following JSON strings\n",
    "players = '[{\"name\":\"Gazinsky\",\"team\":\"Russia\"},{\"name\":\"Dzyuba\",\"team\":\"Russia\"},{\"name\":\"Lukaku\",\"team\":\"Belgium\"}]'\n",
    "stadium_data = '{\"stadiums\":[{\"name\": \"Ekaterinburg Arena\",\"city\": \"Ekaterinburg\"},{\"name\": \"Luzhniki Stadium\",\"city\": \"Moscow\"},{\"name\": \"Nizhny Novgorod Stadium\",\"city\": \"Nizhny Novgorod\"}]}'\n",
    "\n"
   ]
  },
  {
   "cell_type": "code",
   "execution_count": 3,
   "metadata": {
    "tags": []
   },
   "outputs": [
    {
     "name": "stdout",
     "output_type": "stream",
     "text": [
      "{'name': 'Lukaku', 'team': 'Belgium'}\n"
     ]
    }
   ],
   "source": [
    "# load players string as a json object (using json.loads)\n",
    "\n",
    "# print the dictionary containing information about the third player only\n",
    "# HINT: Once the data is in python data structures (i.e. lists/dictionaries) \n",
    "# navigate through the nested lists and dictionaries to extract the relevant information\n",
    "# HINT: Remember, the index starts at 0, so the first player is index 0, the second player is index 1, etc.\n",
    "\n",
    "\n",
    "playersobj = json.loads(players) \n",
    "print(playersobj[2])\n",
    "\n"
   ]
  },
  {
   "cell_type": "code",
   "execution_count": 4,
   "metadata": {
    "tags": []
   },
   "outputs": [
    {
     "name": "stdout",
     "output_type": "stream",
     "text": [
      "Moscow\n"
     ]
    }
   ],
   "source": [
    "# load stadium_data as a json object\n",
    "###NEED TO REDO\n",
    "# print the city of Luzhniki Stadium by navigating through the nested dictionaries and lists (key=\"city\")\n",
    "stadium_data_obj = json.loads(stadium_data) \n",
    "print(stadium_data_obj['stadiums'][1]['city'])"
   ]
  },
  {
   "cell_type": "code",
   "execution_count": 5,
   "metadata": {
    "tags": []
   },
   "outputs": [
    {
     "name": "stdout",
     "output_type": "stream",
     "text": [
      "2018-06-14\n"
     ]
    }
   ],
   "source": [
    "# read world cup match data from the worldcup.json file into a json object\n",
    "\n",
    "# print the date of the first match (key=\"date\")\n",
    "# HINT: Once the data is in python data structures (i.e. lists/dictionaries) \n",
    "# navigate through the nested lists and dictionaries to extract the relevant information\n",
    "world_cup = open('worldcup.json')\n",
    "world_cup_obj = json.load(world_cup)\n",
    "\n",
    "print(world_cup_obj['rounds'][0]['matches'][0]['date'])"
   ]
  },
  {
   "cell_type": "code",
   "execution_count": 6,
   "metadata": {
    "tags": []
   },
   "outputs": [
    {
     "name": "stdout",
     "output_type": "stream",
     "text": [
      "Egypt\n"
     ]
    }
   ],
   "source": [
    "# read world cup team data from the worldcup.teams.json file into json object\n",
    "\n",
    "# print the name of the first team in the team data set (key=\"name\")\n",
    "# HINT: Once the data is in python data structures (i.e. lists/dictionaries) \n",
    "# navigate through the nested lists and dictionaries to extract the relevant information\n",
    "world_cup_teams = open('worldcup.teams.json')\n",
    "world_cup_teams_obj = json.load(world_cup_teams)\n",
    "\n",
    "print(world_cup_teams_obj['teams'][0]['name'])"
   ]
  },
  {
   "cell_type": "code",
   "execution_count": 7,
   "metadata": {
    "tags": []
   },
   "outputs": [],
   "source": [
    "# manually create a list of dictionaries with the following soccer associations and continents as the keys & values\n",
    "# The keys should be  \"continent\" and \"association\". \n",
    "\n",
    "# Europe - Union of European Football Associations \n",
    "# Asia - Asian Football Confederation\n",
    "# Africa - Confederation Africaine de Football \n",
    "\n",
    "soccer = [{'continent': 'Europe', 'association':'Union of European Football Associations'}, \n",
    "         {'continent': 'Asia', 'association':'Asian Football Confederation'},\n",
    "         {'continent': 'Africa', 'association':'Confederation Africaine de Football'}]"
   ]
  },
  {
   "cell_type": "markdown",
   "metadata": {},
   "source": [
    "# Part B: Flattening json"
   ]
  },
  {
   "cell_type": "code",
   "execution_count": 8,
   "metadata": {
    "tags": []
   },
   "outputs": [
    {
     "name": "stderr",
     "output_type": "stream",
     "text": [
      "/var/folders/3z/502yf7vd36g68b85pr331rqh0000gn/T/ipykernel_47697/3467746262.py:4: FutureWarning: pandas.io.json.json_normalize is deprecated, use pandas.json_normalize instead.\n",
      "  players_df = json_normalize(playersobj)\n"
     ]
    },
    {
     "data": {
      "text/html": [
       "<div>\n",
       "<style scoped>\n",
       "    .dataframe tbody tr th:only-of-type {\n",
       "        vertical-align: middle;\n",
       "    }\n",
       "\n",
       "    .dataframe tbody tr th {\n",
       "        vertical-align: top;\n",
       "    }\n",
       "\n",
       "    .dataframe thead th {\n",
       "        text-align: right;\n",
       "    }\n",
       "</style>\n",
       "<table border=\"1\" class=\"dataframe\">\n",
       "  <thead>\n",
       "    <tr style=\"text-align: right;\">\n",
       "      <th></th>\n",
       "      <th>name</th>\n",
       "      <th>team</th>\n",
       "    </tr>\n",
       "  </thead>\n",
       "  <tbody>\n",
       "    <tr>\n",
       "      <th>0</th>\n",
       "      <td>Gazinsky</td>\n",
       "      <td>Russia</td>\n",
       "    </tr>\n",
       "    <tr>\n",
       "      <th>1</th>\n",
       "      <td>Dzyuba</td>\n",
       "      <td>Russia</td>\n",
       "    </tr>\n",
       "    <tr>\n",
       "      <th>2</th>\n",
       "      <td>Lukaku</td>\n",
       "      <td>Belgium</td>\n",
       "    </tr>\n",
       "  </tbody>\n",
       "</table>\n",
       "</div>"
      ],
      "text/plain": [
       "       name     team\n",
       "0  Gazinsky   Russia\n",
       "1    Dzyuba   Russia\n",
       "2    Lukaku  Belgium"
      ]
     },
     "execution_count": 8,
     "metadata": {},
     "output_type": "execute_result"
    }
   ],
   "source": [
    "# flatten the players json object created in Part A (second cell) into a data frame with one row per player\n",
    "\n",
    "# print first few rows of data set\n",
    "players_df = json_normalize(playersobj)\n",
    "players_df.head()"
   ]
  },
  {
   "cell_type": "code",
   "execution_count": 9,
   "metadata": {
    "tags": []
   },
   "outputs": [
    {
     "name": "stderr",
     "output_type": "stream",
     "text": [
      "/var/folders/3z/502yf7vd36g68b85pr331rqh0000gn/T/ipykernel_47697/4252394250.py:5: FutureWarning: pandas.io.json.json_normalize is deprecated, use pandas.json_normalize instead.\n",
      "  stadium_data_df = json_normalize(stadium_data_obj,record_path='stadiums')\n"
     ]
    },
    {
     "data": {
      "text/html": [
       "<div>\n",
       "<style scoped>\n",
       "    .dataframe tbody tr th:only-of-type {\n",
       "        vertical-align: middle;\n",
       "    }\n",
       "\n",
       "    .dataframe tbody tr th {\n",
       "        vertical-align: top;\n",
       "    }\n",
       "\n",
       "    .dataframe thead th {\n",
       "        text-align: right;\n",
       "    }\n",
       "</style>\n",
       "<table border=\"1\" class=\"dataframe\">\n",
       "  <thead>\n",
       "    <tr style=\"text-align: right;\">\n",
       "      <th></th>\n",
       "      <th>name</th>\n",
       "      <th>city</th>\n",
       "    </tr>\n",
       "  </thead>\n",
       "  <tbody>\n",
       "    <tr>\n",
       "      <th>0</th>\n",
       "      <td>Ekaterinburg Arena</td>\n",
       "      <td>Ekaterinburg</td>\n",
       "    </tr>\n",
       "    <tr>\n",
       "      <th>1</th>\n",
       "      <td>Luzhniki Stadium</td>\n",
       "      <td>Moscow</td>\n",
       "    </tr>\n",
       "    <tr>\n",
       "      <th>2</th>\n",
       "      <td>Nizhny Novgorod Stadium</td>\n",
       "      <td>Nizhny Novgorod</td>\n",
       "    </tr>\n",
       "  </tbody>\n",
       "</table>\n",
       "</div>"
      ],
      "text/plain": [
       "                      name             city\n",
       "0       Ekaterinburg Arena     Ekaterinburg\n",
       "1         Luzhniki Stadium           Moscow\n",
       "2  Nizhny Novgorod Stadium  Nizhny Novgorod"
      ]
     },
     "execution_count": 9,
     "metadata": {},
     "output_type": "execute_result"
    }
   ],
   "source": [
    "# flatten the stadium data json object created in Part A (third cell) into a data frame with one row per stadium\n",
    "\n",
    "# print first few rows of data set\n",
    "\n",
    "stadium_data_df = json_normalize(stadium_data_obj,record_path='stadiums')\n",
    "stadium_data_df.head()"
   ]
  },
  {
   "cell_type": "code",
   "execution_count": 20,
   "metadata": {
    "tags": []
   },
   "outputs": [
    {
     "name": "stdout",
     "output_type": "stream",
     "text": [
      "(64, 23)\n"
     ]
    },
    {
     "name": "stderr",
     "output_type": "stream",
     "text": [
      "/var/folders/3z/502yf7vd36g68b85pr331rqh0000gn/T/ipykernel_47697/2019490135.py:13: FutureWarning: pandas.io.json.json_normalize is deprecated, use pandas.json_normalize instead.\n",
      "  world_cup_df = json_normalize(world_cup_obj,record_path=[\"rounds\",[\"matches\"]])\n"
     ]
    },
    {
     "data": {
      "text/html": [
       "<div>\n",
       "<style scoped>\n",
       "    .dataframe tbody tr th:only-of-type {\n",
       "        vertical-align: middle;\n",
       "    }\n",
       "\n",
       "    .dataframe tbody tr th {\n",
       "        vertical-align: top;\n",
       "    }\n",
       "\n",
       "    .dataframe thead th {\n",
       "        text-align: right;\n",
       "    }\n",
       "</style>\n",
       "<table border=\"1\" class=\"dataframe\">\n",
       "  <thead>\n",
       "    <tr style=\"text-align: right;\">\n",
       "      <th></th>\n",
       "      <th>num</th>\n",
       "      <th>date</th>\n",
       "      <th>time</th>\n",
       "      <th>score1</th>\n",
       "      <th>score2</th>\n",
       "      <th>score1i</th>\n",
       "      <th>score2i</th>\n",
       "      <th>goals1</th>\n",
       "      <th>goals2</th>\n",
       "      <th>group</th>\n",
       "      <th>...</th>\n",
       "      <th>team1.code</th>\n",
       "      <th>team2.name</th>\n",
       "      <th>team2.code</th>\n",
       "      <th>stadium.key</th>\n",
       "      <th>stadium.name</th>\n",
       "      <th>score1et</th>\n",
       "      <th>score2et</th>\n",
       "      <th>score1p</th>\n",
       "      <th>score2p</th>\n",
       "      <th>knockout</th>\n",
       "    </tr>\n",
       "  </thead>\n",
       "  <tbody>\n",
       "    <tr>\n",
       "      <th>0</th>\n",
       "      <td>1</td>\n",
       "      <td>2018-06-14</td>\n",
       "      <td>18:00</td>\n",
       "      <td>5</td>\n",
       "      <td>0</td>\n",
       "      <td>2</td>\n",
       "      <td>0</td>\n",
       "      <td>[{'name': 'Gazinsky', 'minute': 12, 'score1': ...</td>\n",
       "      <td>[]</td>\n",
       "      <td>Group A</td>\n",
       "      <td>...</td>\n",
       "      <td>RUS</td>\n",
       "      <td>Saudi Arabia</td>\n",
       "      <td>KSA</td>\n",
       "      <td>luzhniki</td>\n",
       "      <td>Luzhniki Stadium</td>\n",
       "      <td>NaN</td>\n",
       "      <td>NaN</td>\n",
       "      <td>NaN</td>\n",
       "      <td>NaN</td>\n",
       "      <td>NaN</td>\n",
       "    </tr>\n",
       "    <tr>\n",
       "      <th>1</th>\n",
       "      <td>2</td>\n",
       "      <td>2018-06-15</td>\n",
       "      <td>17:00</td>\n",
       "      <td>0</td>\n",
       "      <td>1</td>\n",
       "      <td>0</td>\n",
       "      <td>0</td>\n",
       "      <td>[]</td>\n",
       "      <td>[{'name': 'Giménez', 'minute': 89, 'score1': 0...</td>\n",
       "      <td>Group A</td>\n",
       "      <td>...</td>\n",
       "      <td>EGY</td>\n",
       "      <td>Uruguay</td>\n",
       "      <td>URU</td>\n",
       "      <td>ekaterinburg</td>\n",
       "      <td>Ekaterinburg Arena</td>\n",
       "      <td>NaN</td>\n",
       "      <td>NaN</td>\n",
       "      <td>NaN</td>\n",
       "      <td>NaN</td>\n",
       "      <td>NaN</td>\n",
       "    </tr>\n",
       "    <tr>\n",
       "      <th>2</th>\n",
       "      <td>3</td>\n",
       "      <td>2018-06-15</td>\n",
       "      <td>21:00</td>\n",
       "      <td>3</td>\n",
       "      <td>3</td>\n",
       "      <td>2</td>\n",
       "      <td>1</td>\n",
       "      <td>[{'name': 'Ronaldo', 'minute': 4, 'score1': 1,...</td>\n",
       "      <td>[{'name': 'Costa', 'minute': 24, 'score1': 1, ...</td>\n",
       "      <td>Group B</td>\n",
       "      <td>...</td>\n",
       "      <td>POR</td>\n",
       "      <td>Spain</td>\n",
       "      <td>ESP</td>\n",
       "      <td>fisht</td>\n",
       "      <td>Fisht Stadium</td>\n",
       "      <td>NaN</td>\n",
       "      <td>NaN</td>\n",
       "      <td>NaN</td>\n",
       "      <td>NaN</td>\n",
       "      <td>NaN</td>\n",
       "    </tr>\n",
       "    <tr>\n",
       "      <th>3</th>\n",
       "      <td>4</td>\n",
       "      <td>2018-06-15</td>\n",
       "      <td>18:00</td>\n",
       "      <td>0</td>\n",
       "      <td>1</td>\n",
       "      <td>0</td>\n",
       "      <td>0</td>\n",
       "      <td>[]</td>\n",
       "      <td>[{'name': 'Bouhaddouz', 'minute': 90, 'offset'...</td>\n",
       "      <td>Group B</td>\n",
       "      <td>...</td>\n",
       "      <td>MAR</td>\n",
       "      <td>Iran</td>\n",
       "      <td>IRN</td>\n",
       "      <td>saintpetersburg</td>\n",
       "      <td>Saint Petersburg Stadium</td>\n",
       "      <td>NaN</td>\n",
       "      <td>NaN</td>\n",
       "      <td>NaN</td>\n",
       "      <td>NaN</td>\n",
       "      <td>NaN</td>\n",
       "    </tr>\n",
       "    <tr>\n",
       "      <th>4</th>\n",
       "      <td>5</td>\n",
       "      <td>2018-06-16</td>\n",
       "      <td>13:00</td>\n",
       "      <td>2</td>\n",
       "      <td>1</td>\n",
       "      <td>0</td>\n",
       "      <td>0</td>\n",
       "      <td>[{'name': 'Griezmann', 'minute': 58, 'score1':...</td>\n",
       "      <td>[{'name': 'Jedinak', 'minute': 62, 'score1': 1...</td>\n",
       "      <td>Group C</td>\n",
       "      <td>...</td>\n",
       "      <td>FRA</td>\n",
       "      <td>Australia</td>\n",
       "      <td>AUS</td>\n",
       "      <td>kazan</td>\n",
       "      <td>Kazan Arena</td>\n",
       "      <td>NaN</td>\n",
       "      <td>NaN</td>\n",
       "      <td>NaN</td>\n",
       "      <td>NaN</td>\n",
       "      <td>NaN</td>\n",
       "    </tr>\n",
       "  </tbody>\n",
       "</table>\n",
       "<p>5 rows × 23 columns</p>\n",
       "</div>"
      ],
      "text/plain": [
       "   num        date   time  score1  score2  score1i  score2i  \\\n",
       "0    1  2018-06-14  18:00       5       0        2        0   \n",
       "1    2  2018-06-15  17:00       0       1        0        0   \n",
       "2    3  2018-06-15  21:00       3       3        2        1   \n",
       "3    4  2018-06-15  18:00       0       1        0        0   \n",
       "4    5  2018-06-16  13:00       2       1        0        0   \n",
       "\n",
       "                                              goals1  \\\n",
       "0  [{'name': 'Gazinsky', 'minute': 12, 'score1': ...   \n",
       "1                                                 []   \n",
       "2  [{'name': 'Ronaldo', 'minute': 4, 'score1': 1,...   \n",
       "3                                                 []   \n",
       "4  [{'name': 'Griezmann', 'minute': 58, 'score1':...   \n",
       "\n",
       "                                              goals2    group  ... team1.code  \\\n",
       "0                                                 []  Group A  ...        RUS   \n",
       "1  [{'name': 'Giménez', 'minute': 89, 'score1': 0...  Group A  ...        EGY   \n",
       "2  [{'name': 'Costa', 'minute': 24, 'score1': 1, ...  Group B  ...        POR   \n",
       "3  [{'name': 'Bouhaddouz', 'minute': 90, 'offset'...  Group B  ...        MAR   \n",
       "4  [{'name': 'Jedinak', 'minute': 62, 'score1': 1...  Group C  ...        FRA   \n",
       "\n",
       "     team2.name team2.code      stadium.key              stadium.name  \\\n",
       "0  Saudi Arabia        KSA         luzhniki          Luzhniki Stadium   \n",
       "1       Uruguay        URU     ekaterinburg        Ekaterinburg Arena   \n",
       "2         Spain        ESP            fisht             Fisht Stadium   \n",
       "3          Iran        IRN  saintpetersburg  Saint Petersburg Stadium   \n",
       "4     Australia        AUS            kazan               Kazan Arena   \n",
       "\n",
       "  score1et score2et score1p  score2p  knockout  \n",
       "0      NaN      NaN     NaN      NaN       NaN  \n",
       "1      NaN      NaN     NaN      NaN       NaN  \n",
       "2      NaN      NaN     NaN      NaN       NaN  \n",
       "3      NaN      NaN     NaN      NaN       NaN  \n",
       "4      NaN      NaN     NaN      NaN       NaN  \n",
       "\n",
       "[5 rows x 23 columns]"
      ]
     },
     "execution_count": 20,
     "metadata": {},
     "output_type": "execute_result"
    }
   ],
   "source": [
    "# flatten the world cup match json object created in Part A (fourth cell)  into a data frame with one row per match\n",
    "# HINT: The data you want is nested in \"rounds\", and further in the \"matches\" key in the world cup match json. You are going to have to get rid of two outer layers.\n",
    "# HINT: You should include both rounds & matches as nested keys in record path\n",
    "# (see https://stackoverflow.com/questions/47242845/pandas-io-json-json-normalize-with-very-nested-json)\n",
    "# e.g. record_path=[\"level1key\",[\"level2key\"]]\n",
    "# where level1key = \"rounds\" and level2key = \"matches\"\n",
    "\n",
    "# print number of rows\n",
    "\n",
    "# print first few rows of data set\n",
    "\n",
    "\n",
    "world_cup_df = json_normalize(world_cup_obj,record_path=[\"rounds\",[\"matches\"]])\n",
    "print(world_cup_df.shape)\n",
    "world_cup_df.head()"
   ]
  },
  {
   "cell_type": "code",
   "execution_count": 11,
   "metadata": {
    "tags": []
   },
   "outputs": [
    {
     "name": "stdout",
     "output_type": "stream",
     "text": [
      "32\n"
     ]
    },
    {
     "name": "stderr",
     "output_type": "stream",
     "text": [
      "/var/folders/3z/502yf7vd36g68b85pr331rqh0000gn/T/ipykernel_47697/3544503937.py:9: FutureWarning: pandas.io.json.json_normalize is deprecated, use pandas.json_normalize instead.\n",
      "  world_cup_teams_df = json_normalize(world_cup_teams_obj,record_path=[\"teams\"])\n"
     ]
    },
    {
     "data": {
      "text/html": [
       "<div>\n",
       "<style scoped>\n",
       "    .dataframe tbody tr th:only-of-type {\n",
       "        vertical-align: middle;\n",
       "    }\n",
       "\n",
       "    .dataframe tbody tr th {\n",
       "        vertical-align: top;\n",
       "    }\n",
       "\n",
       "    .dataframe thead th {\n",
       "        text-align: right;\n",
       "    }\n",
       "</style>\n",
       "<table border=\"1\" class=\"dataframe\">\n",
       "  <thead>\n",
       "    <tr style=\"text-align: right;\">\n",
       "      <th></th>\n",
       "      <th>name</th>\n",
       "      <th>code</th>\n",
       "      <th>continent</th>\n",
       "      <th>assoc.key</th>\n",
       "      <th>assoc.name</th>\n",
       "      <th>assoc.continental.name</th>\n",
       "      <th>assoc.continental.code</th>\n",
       "    </tr>\n",
       "  </thead>\n",
       "  <tbody>\n",
       "    <tr>\n",
       "      <th>0</th>\n",
       "      <td>Egypt</td>\n",
       "      <td>EGY</td>\n",
       "      <td>Africa</td>\n",
       "      <td>egy</td>\n",
       "      <td>Egyptian Football Association</td>\n",
       "      <td>Confédération Africaine de Football (CAF)</td>\n",
       "      <td>CAF</td>\n",
       "    </tr>\n",
       "    <tr>\n",
       "      <th>1</th>\n",
       "      <td>Morocco</td>\n",
       "      <td>MAR</td>\n",
       "      <td>Africa</td>\n",
       "      <td>mar</td>\n",
       "      <td>Fédération Royale Marocaine de Football</td>\n",
       "      <td>Confédération Africaine de Football (CAF)</td>\n",
       "      <td>CAF</td>\n",
       "    </tr>\n",
       "    <tr>\n",
       "      <th>2</th>\n",
       "      <td>Tunisia</td>\n",
       "      <td>TUN</td>\n",
       "      <td>Africa</td>\n",
       "      <td>tun</td>\n",
       "      <td>Fédération Tunisienne de Football</td>\n",
       "      <td>Confédération Africaine de Football (CAF)</td>\n",
       "      <td>CAF</td>\n",
       "    </tr>\n",
       "    <tr>\n",
       "      <th>3</th>\n",
       "      <td>Senegal</td>\n",
       "      <td>SEN</td>\n",
       "      <td>Africa</td>\n",
       "      <td>sen</td>\n",
       "      <td>Fédération Sénégalaise de Football</td>\n",
       "      <td>Confédération Africaine de Football (CAF)</td>\n",
       "      <td>CAF</td>\n",
       "    </tr>\n",
       "    <tr>\n",
       "      <th>4</th>\n",
       "      <td>Nigeria</td>\n",
       "      <td>NGA</td>\n",
       "      <td>Africa</td>\n",
       "      <td>nga</td>\n",
       "      <td>Nigeria Football Federation</td>\n",
       "      <td>Confédération Africaine de Football (CAF)</td>\n",
       "      <td>CAF</td>\n",
       "    </tr>\n",
       "  </tbody>\n",
       "</table>\n",
       "</div>"
      ],
      "text/plain": [
       "      name code continent assoc.key                               assoc.name  \\\n",
       "0    Egypt  EGY    Africa       egy            Egyptian Football Association   \n",
       "1  Morocco  MAR    Africa       mar  Fédération Royale Marocaine de Football   \n",
       "2  Tunisia  TUN    Africa       tun        Fédération Tunisienne de Football   \n",
       "3  Senegal  SEN    Africa       sen       Fédération Sénégalaise de Football   \n",
       "4  Nigeria  NGA    Africa       nga              Nigeria Football Federation   \n",
       "\n",
       "                      assoc.continental.name assoc.continental.code  \n",
       "0  Confédération Africaine de Football (CAF)                    CAF  \n",
       "1  Confédération Africaine de Football (CAF)                    CAF  \n",
       "2  Confédération Africaine de Football (CAF)                    CAF  \n",
       "3  Confédération Africaine de Football (CAF)                    CAF  \n",
       "4  Confédération Africaine de Football (CAF)                    CAF  "
      ]
     },
     "execution_count": 11,
     "metadata": {},
     "output_type": "execute_result"
    }
   ],
   "source": [
    "# flatten the team data json object created in Part A (fifth cell) into a data frame with one row per team\n",
    "\n",
    "# print number of rows\n",
    "\n",
    "# print first few rows of data set\n",
    "\n",
    "\n",
    "\n",
    "world_cup_teams_df = json_normalize(world_cup_teams_obj,record_path=[\"teams\"])\n",
    "print(world_cup_teams_df.shape[0])\n",
    "world_cup_teams_df.head()"
   ]
  },
  {
   "cell_type": "code",
   "execution_count": 12,
   "metadata": {
    "tags": []
   },
   "outputs": [
    {
     "name": "stdout",
     "output_type": "stream",
     "text": [
      "3\n"
     ]
    },
    {
     "name": "stderr",
     "output_type": "stream",
     "text": [
      "/var/folders/3z/502yf7vd36g68b85pr331rqh0000gn/T/ipykernel_47697/2563274309.py:6: FutureWarning: pandas.io.json.json_normalize is deprecated, use pandas.json_normalize instead.\n",
      "  soccer_df = json_normalize(soccer)\n"
     ]
    },
    {
     "data": {
      "text/html": [
       "<div>\n",
       "<style scoped>\n",
       "    .dataframe tbody tr th:only-of-type {\n",
       "        vertical-align: middle;\n",
       "    }\n",
       "\n",
       "    .dataframe tbody tr th {\n",
       "        vertical-align: top;\n",
       "    }\n",
       "\n",
       "    .dataframe thead th {\n",
       "        text-align: right;\n",
       "    }\n",
       "</style>\n",
       "<table border=\"1\" class=\"dataframe\">\n",
       "  <thead>\n",
       "    <tr style=\"text-align: right;\">\n",
       "      <th></th>\n",
       "      <th>continent</th>\n",
       "      <th>association</th>\n",
       "    </tr>\n",
       "  </thead>\n",
       "  <tbody>\n",
       "    <tr>\n",
       "      <th>0</th>\n",
       "      <td>Europe</td>\n",
       "      <td>Union of European Football Associations</td>\n",
       "    </tr>\n",
       "    <tr>\n",
       "      <th>1</th>\n",
       "      <td>Asia</td>\n",
       "      <td>Asian Football Confederation</td>\n",
       "    </tr>\n",
       "    <tr>\n",
       "      <th>2</th>\n",
       "      <td>Africa</td>\n",
       "      <td>Confederation Africaine de Football</td>\n",
       "    </tr>\n",
       "  </tbody>\n",
       "</table>\n",
       "</div>"
      ],
      "text/plain": [
       "  continent                              association\n",
       "0    Europe  Union of European Football Associations\n",
       "1      Asia             Asian Football Confederation\n",
       "2    Africa      Confederation Africaine de Football"
      ]
     },
     "execution_count": 12,
     "metadata": {},
     "output_type": "execute_result"
    }
   ],
   "source": [
    "# flatten the soccer association list of dictionaries created in Part A (sixth cell) into a data frame with one row per association\n",
    "\n",
    "# print number of rows\n",
    "\n",
    "# print first few rows of data set\n",
    "soccer_df = json_normalize(soccer)\n",
    "print(soccer_df.shape[0])\n",
    "soccer_df.head()"
   ]
  },
  {
   "cell_type": "markdown",
   "metadata": {},
   "source": [
    "# Part C: SQL"
   ]
  },
  {
   "cell_type": "code",
   "execution_count": 13,
   "metadata": {
    "tags": []
   },
   "outputs": [],
   "source": [
    "# create a database and sql connection \n",
    "con = sqlite3.connect('m5_database.sqlite')"
   ]
  },
  {
   "cell_type": "code",
   "execution_count": 14,
   "metadata": {
    "tags": []
   },
   "outputs": [
    {
     "data": {
      "text/plain": [
       "3"
      ]
     },
     "execution_count": 14,
     "metadata": {},
     "output_type": "execute_result"
    }
   ],
   "source": [
    "# save the players data set created in part B as a sql table in your database\n",
    "players_df.to_sql('players',con,if_exists='replace')"
   ]
  },
  {
   "cell_type": "code",
   "execution_count": 15,
   "metadata": {
    "tags": []
   },
   "outputs": [
    {
     "data": {
      "text/plain": [
       "3"
      ]
     },
     "execution_count": 15,
     "metadata": {},
     "output_type": "execute_result"
    }
   ],
   "source": [
    "# save the stadiums data set created in part B as a sql table in your database\n",
    "stadium_data_df.to_sql('stadium_data',con,if_exists='replace')"
   ]
  },
  {
   "cell_type": "code",
   "execution_count": 16,
   "metadata": {
    "tags": []
   },
   "outputs": [
    {
     "data": {
      "text/plain": [
       "64"
      ]
     },
     "execution_count": 16,
     "metadata": {},
     "output_type": "execute_result"
    }
   ],
   "source": [
    "# save the world cup match data set created in part B as a sql table in your database\n",
    "# (you'll need to FIRST slice the data frame by selecting only the columns we want. Drop goals1 & goals2)\n",
    "\n",
    "world_cup_df = world_cup_df.drop(columns=['goals1', 'goals2'])\n",
    "world_cup_df.to_sql('worldcup',con,if_exists='replace')"
   ]
  },
  {
   "cell_type": "code",
   "execution_count": 17,
   "metadata": {
    "tags": []
   },
   "outputs": [
    {
     "data": {
      "text/plain": [
       "32"
      ]
     },
     "execution_count": 17,
     "metadata": {},
     "output_type": "execute_result"
    }
   ],
   "source": [
    "# save the teams data set created in part B as a sql table in your database. Keep the following\n",
    "# variables: \"code\",\"continent\", & \"name\"\n",
    "world_cup_teams_df = world_cup_teams_df[['code', 'continent', 'name']]\n",
    "world_cup_teams_df.to_sql('worldcupteams',con,if_exists='replace')"
   ]
  },
  {
   "cell_type": "code",
   "execution_count": 18,
   "metadata": {
    "tags": []
   },
   "outputs": [
    {
     "name": "stdout",
     "output_type": "stream",
     "text": [
      "4\n"
     ]
    },
    {
     "data": {
      "text/html": [
       "<div>\n",
       "<style scoped>\n",
       "    .dataframe tbody tr th:only-of-type {\n",
       "        vertical-align: middle;\n",
       "    }\n",
       "\n",
       "    .dataframe tbody tr th {\n",
       "        vertical-align: top;\n",
       "    }\n",
       "\n",
       "    .dataframe thead th {\n",
       "        text-align: right;\n",
       "    }\n",
       "</style>\n",
       "<table border=\"1\" class=\"dataframe\">\n",
       "  <thead>\n",
       "    <tr style=\"text-align: right;\">\n",
       "      <th></th>\n",
       "      <th>index</th>\n",
       "      <th>num</th>\n",
       "      <th>date</th>\n",
       "      <th>time</th>\n",
       "      <th>score1</th>\n",
       "      <th>score2</th>\n",
       "      <th>score1i</th>\n",
       "      <th>score2i</th>\n",
       "      <th>group</th>\n",
       "      <th>city</th>\n",
       "      <th>...</th>\n",
       "      <th>team1.code</th>\n",
       "      <th>team2.name</th>\n",
       "      <th>team2.code</th>\n",
       "      <th>stadium.key</th>\n",
       "      <th>stadium.name</th>\n",
       "      <th>score1et</th>\n",
       "      <th>score2et</th>\n",
       "      <th>score1p</th>\n",
       "      <th>score2p</th>\n",
       "      <th>knockout</th>\n",
       "    </tr>\n",
       "  </thead>\n",
       "  <tbody>\n",
       "    <tr>\n",
       "      <th>0</th>\n",
       "      <td>10</td>\n",
       "      <td>11</td>\n",
       "      <td>2018-06-17</td>\n",
       "      <td>18:00</td>\n",
       "      <td>0</td>\n",
       "      <td>1</td>\n",
       "      <td>0</td>\n",
       "      <td>1</td>\n",
       "      <td>Group F</td>\n",
       "      <td>Moscow</td>\n",
       "      <td>...</td>\n",
       "      <td>GER</td>\n",
       "      <td>Mexico</td>\n",
       "      <td>MEX</td>\n",
       "      <td>luzhniki</td>\n",
       "      <td>Luzhniki Stadium</td>\n",
       "      <td>None</td>\n",
       "      <td>None</td>\n",
       "      <td>None</td>\n",
       "      <td>None</td>\n",
       "      <td>NaN</td>\n",
       "    </tr>\n",
       "    <tr>\n",
       "      <th>1</th>\n",
       "      <td>27</td>\n",
       "      <td>28</td>\n",
       "      <td>2018-06-23</td>\n",
       "      <td>18:00</td>\n",
       "      <td>1</td>\n",
       "      <td>2</td>\n",
       "      <td>0</td>\n",
       "      <td>1</td>\n",
       "      <td>Group F</td>\n",
       "      <td>Rostov-on-Don</td>\n",
       "      <td>...</td>\n",
       "      <td>KOR</td>\n",
       "      <td>Mexico</td>\n",
       "      <td>MEX</td>\n",
       "      <td>rostov</td>\n",
       "      <td>Rostov Arena</td>\n",
       "      <td>None</td>\n",
       "      <td>None</td>\n",
       "      <td>None</td>\n",
       "      <td>None</td>\n",
       "      <td>NaN</td>\n",
       "    </tr>\n",
       "    <tr>\n",
       "      <th>2</th>\n",
       "      <td>43</td>\n",
       "      <td>44</td>\n",
       "      <td>2018-06-27</td>\n",
       "      <td>19:00</td>\n",
       "      <td>0</td>\n",
       "      <td>3</td>\n",
       "      <td>0</td>\n",
       "      <td>0</td>\n",
       "      <td>Group F</td>\n",
       "      <td>Ekaterinburg</td>\n",
       "      <td>...</td>\n",
       "      <td>MEX</td>\n",
       "      <td>Sweden</td>\n",
       "      <td>SWE</td>\n",
       "      <td>ekaterinburg</td>\n",
       "      <td>Ekaterinburg Arena</td>\n",
       "      <td>None</td>\n",
       "      <td>None</td>\n",
       "      <td>None</td>\n",
       "      <td>None</td>\n",
       "      <td>NaN</td>\n",
       "    </tr>\n",
       "    <tr>\n",
       "      <th>3</th>\n",
       "      <td>52</td>\n",
       "      <td>53</td>\n",
       "      <td>2018-07-02</td>\n",
       "      <td>18:00</td>\n",
       "      <td>2</td>\n",
       "      <td>0</td>\n",
       "      <td>0</td>\n",
       "      <td>0</td>\n",
       "      <td>None</td>\n",
       "      <td>Samara</td>\n",
       "      <td>...</td>\n",
       "      <td>BRA</td>\n",
       "      <td>Mexico</td>\n",
       "      <td>MEX</td>\n",
       "      <td>samara</td>\n",
       "      <td>Samara Arena</td>\n",
       "      <td>None</td>\n",
       "      <td>None</td>\n",
       "      <td>None</td>\n",
       "      <td>None</td>\n",
       "      <td>1.0</td>\n",
       "    </tr>\n",
       "  </tbody>\n",
       "</table>\n",
       "<p>4 rows × 22 columns</p>\n",
       "</div>"
      ],
      "text/plain": [
       "   index  num        date   time  score1  score2  score1i  score2i    group  \\\n",
       "0     10   11  2018-06-17  18:00       0       1        0        1  Group F   \n",
       "1     27   28  2018-06-23  18:00       1       2        0        1  Group F   \n",
       "2     43   44  2018-06-27  19:00       0       3        0        0  Group F   \n",
       "3     52   53  2018-07-02  18:00       2       0        0        0     None   \n",
       "\n",
       "            city  ... team1.code team2.name team2.code   stadium.key  \\\n",
       "0         Moscow  ...        GER     Mexico        MEX      luzhniki   \n",
       "1  Rostov-on-Don  ...        KOR     Mexico        MEX        rostov   \n",
       "2   Ekaterinburg  ...        MEX     Sweden        SWE  ekaterinburg   \n",
       "3         Samara  ...        BRA     Mexico        MEX        samara   \n",
       "\n",
       "         stadium.name score1et score2et score1p score2p knockout  \n",
       "0    Luzhniki Stadium     None     None    None    None      NaN  \n",
       "1        Rostov Arena     None     None    None    None      NaN  \n",
       "2  Ekaterinburg Arena     None     None    None    None      NaN  \n",
       "3        Samara Arena     None     None    None    None      1.0  \n",
       "\n",
       "[4 rows x 22 columns]"
      ]
     },
     "execution_count": 18,
     "metadata": {},
     "output_type": "execute_result"
    }
   ],
   "source": [
    "# From the world cup match data table, use SQL syntax to select only those rows where Mexico played as team1 (team1.name) OR team2 (team2.name) from the database, and save these rows as a data frame\n",
    "# HINT: You'll need to use WHERE to select the right rows\n",
    "# VERY IMPORTANT HINT: if a column name includes a period (.), you must enclose the\n",
    "# column name  AND the value for the WHERE statement in double quotes, and enclose the entire query in single quotes\n",
    "# eg. 'SELECT * FROM df WHERE \"col1.name\"=\"Atlanta\" OR \"col2.name\"=\"Atlanta\"'\n",
    "\n",
    "\n",
    "# count the number of rows in the data frame - This represents the number of games Mexico played in, as either team 1 or team 2\n",
    "\n",
    "myquery = 'SELECT * FROM worldcup WHERE \"team1.name\" = \"Mexico\" OR \"team2.name\" = \"Mexico\"  '\n",
    "\n",
    "word_cup_query = pd.read_sql_query(myquery,con)\n",
    "print(word_cup_query.shape[0])\n",
    "word_cup_query.head()\n",
    "\n",
    "# print the first few rows of the data frame\n"
   ]
  },
  {
   "cell_type": "code",
   "execution_count": 19,
   "metadata": {
    "tags": []
   },
   "outputs": [
    {
     "name": "stdout",
     "output_type": "stream",
     "text": [
      "14\n"
     ]
    },
    {
     "data": {
      "text/html": [
       "<div>\n",
       "<style scoped>\n",
       "    .dataframe tbody tr th:only-of-type {\n",
       "        vertical-align: middle;\n",
       "    }\n",
       "\n",
       "    .dataframe tbody tr th {\n",
       "        vertical-align: top;\n",
       "    }\n",
       "\n",
       "    .dataframe thead th {\n",
       "        text-align: right;\n",
       "    }\n",
       "</style>\n",
       "<table border=\"1\" class=\"dataframe\">\n",
       "  <thead>\n",
       "    <tr style=\"text-align: right;\">\n",
       "      <th></th>\n",
       "      <th>index</th>\n",
       "      <th>num</th>\n",
       "      <th>date</th>\n",
       "      <th>time</th>\n",
       "      <th>score1</th>\n",
       "      <th>score2</th>\n",
       "      <th>score1i</th>\n",
       "      <th>score2i</th>\n",
       "      <th>group</th>\n",
       "      <th>city</th>\n",
       "      <th>...</th>\n",
       "      <th>team1.code</th>\n",
       "      <th>team2.name</th>\n",
       "      <th>team2.code</th>\n",
       "      <th>stadium.key</th>\n",
       "      <th>stadium.name</th>\n",
       "      <th>score1et</th>\n",
       "      <th>score2et</th>\n",
       "      <th>score1p</th>\n",
       "      <th>score2p</th>\n",
       "      <th>knockout</th>\n",
       "    </tr>\n",
       "  </thead>\n",
       "  <tbody>\n",
       "    <tr>\n",
       "      <th>0</th>\n",
       "      <td>2</td>\n",
       "      <td>3</td>\n",
       "      <td>2018-06-15</td>\n",
       "      <td>21:00</td>\n",
       "      <td>3</td>\n",
       "      <td>3</td>\n",
       "      <td>2</td>\n",
       "      <td>1</td>\n",
       "      <td>Group B</td>\n",
       "      <td>Sochi</td>\n",
       "      <td>...</td>\n",
       "      <td>POR</td>\n",
       "      <td>Spain</td>\n",
       "      <td>ESP</td>\n",
       "      <td>fisht</td>\n",
       "      <td>Fisht Stadium</td>\n",
       "      <td>NaN</td>\n",
       "      <td>NaN</td>\n",
       "      <td>NaN</td>\n",
       "      <td>NaN</td>\n",
       "      <td>NaN</td>\n",
       "    </tr>\n",
       "    <tr>\n",
       "      <th>1</th>\n",
       "      <td>6</td>\n",
       "      <td>7</td>\n",
       "      <td>2018-06-16</td>\n",
       "      <td>16:00</td>\n",
       "      <td>1</td>\n",
       "      <td>1</td>\n",
       "      <td>1</td>\n",
       "      <td>1</td>\n",
       "      <td>Group D</td>\n",
       "      <td>Moscow</td>\n",
       "      <td>...</td>\n",
       "      <td>ARG</td>\n",
       "      <td>Iceland</td>\n",
       "      <td>ISL</td>\n",
       "      <td>spartak</td>\n",
       "      <td>Spartak Stadium</td>\n",
       "      <td>NaN</td>\n",
       "      <td>NaN</td>\n",
       "      <td>NaN</td>\n",
       "      <td>NaN</td>\n",
       "      <td>NaN</td>\n",
       "    </tr>\n",
       "    <tr>\n",
       "      <th>2</th>\n",
       "      <td>8</td>\n",
       "      <td>9</td>\n",
       "      <td>2018-06-17</td>\n",
       "      <td>21:00</td>\n",
       "      <td>1</td>\n",
       "      <td>1</td>\n",
       "      <td>1</td>\n",
       "      <td>0</td>\n",
       "      <td>Group E</td>\n",
       "      <td>Rostov-on-Don</td>\n",
       "      <td>...</td>\n",
       "      <td>BRA</td>\n",
       "      <td>Switzerland</td>\n",
       "      <td>SUI</td>\n",
       "      <td>rostov</td>\n",
       "      <td>Rostov Arena</td>\n",
       "      <td>NaN</td>\n",
       "      <td>NaN</td>\n",
       "      <td>NaN</td>\n",
       "      <td>NaN</td>\n",
       "      <td>NaN</td>\n",
       "    </tr>\n",
       "    <tr>\n",
       "      <th>3</th>\n",
       "      <td>21</td>\n",
       "      <td>22</td>\n",
       "      <td>2018-06-21</td>\n",
       "      <td>16:00</td>\n",
       "      <td>1</td>\n",
       "      <td>1</td>\n",
       "      <td>1</td>\n",
       "      <td>1</td>\n",
       "      <td>Group C</td>\n",
       "      <td>Samara</td>\n",
       "      <td>...</td>\n",
       "      <td>DEN</td>\n",
       "      <td>Australia</td>\n",
       "      <td>AUS</td>\n",
       "      <td>samara</td>\n",
       "      <td>Samara Arena</td>\n",
       "      <td>NaN</td>\n",
       "      <td>NaN</td>\n",
       "      <td>NaN</td>\n",
       "      <td>NaN</td>\n",
       "      <td>NaN</td>\n",
       "    </tr>\n",
       "    <tr>\n",
       "      <th>4</th>\n",
       "      <td>31</td>\n",
       "      <td>32</td>\n",
       "      <td>2018-06-24</td>\n",
       "      <td>20:00</td>\n",
       "      <td>2</td>\n",
       "      <td>2</td>\n",
       "      <td>1</td>\n",
       "      <td>1</td>\n",
       "      <td>Group H</td>\n",
       "      <td>Ekaterinburg</td>\n",
       "      <td>...</td>\n",
       "      <td>JPN</td>\n",
       "      <td>Senegal</td>\n",
       "      <td>SEN</td>\n",
       "      <td>ekaterinburg</td>\n",
       "      <td>Ekaterinburg Arena</td>\n",
       "      <td>NaN</td>\n",
       "      <td>NaN</td>\n",
       "      <td>NaN</td>\n",
       "      <td>NaN</td>\n",
       "      <td>NaN</td>\n",
       "    </tr>\n",
       "  </tbody>\n",
       "</table>\n",
       "<p>5 rows × 22 columns</p>\n",
       "</div>"
      ],
      "text/plain": [
       "   index  num        date   time  score1  score2  score1i  score2i    group  \\\n",
       "0      2    3  2018-06-15  21:00       3       3        2        1  Group B   \n",
       "1      6    7  2018-06-16  16:00       1       1        1        1  Group D   \n",
       "2      8    9  2018-06-17  21:00       1       1        1        0  Group E   \n",
       "3     21   22  2018-06-21  16:00       1       1        1        1  Group C   \n",
       "4     31   32  2018-06-24  20:00       2       2        1        1  Group H   \n",
       "\n",
       "            city  ... team1.code   team2.name team2.code   stadium.key  \\\n",
       "0          Sochi  ...        POR        Spain        ESP         fisht   \n",
       "1         Moscow  ...        ARG      Iceland        ISL       spartak   \n",
       "2  Rostov-on-Don  ...        BRA  Switzerland        SUI        rostov   \n",
       "3         Samara  ...        DEN    Australia        AUS        samara   \n",
       "4   Ekaterinburg  ...        JPN      Senegal        SEN  ekaterinburg   \n",
       "\n",
       "         stadium.name score1et score2et  score1p  score2p  knockout  \n",
       "0       Fisht Stadium      NaN      NaN      NaN      NaN       NaN  \n",
       "1     Spartak Stadium      NaN      NaN      NaN      NaN       NaN  \n",
       "2        Rostov Arena      NaN      NaN      NaN      NaN       NaN  \n",
       "3        Samara Arena      NaN      NaN      NaN      NaN       NaN  \n",
       "4  Ekaterinburg Arena      NaN      NaN      NaN      NaN       NaN  \n",
       "\n",
       "[5 rows x 22 columns]"
      ]
     },
     "execution_count": 19,
     "metadata": {},
     "output_type": "execute_result"
    }
   ],
   "source": [
    "# From the world cup match data table, select only those rows that were tied games from the database and save these rows as a data frame\n",
    "# HINT: By tie, this means that score1 is the same as score2\n",
    "\n",
    "myquery = 'SELECT * FROM worldcup WHERE score1 = score2  '\n",
    "\n",
    "word_cup_query = pd.read_sql_query(myquery,con)\n",
    "print(word_cup_query.shape[0])\n",
    "word_cup_query.head()\n",
    "\n",
    "# count the number of rows in the data frame\n",
    "\n",
    "\n",
    "# print the first few rows of the data frame\n"
   ]
  }
 ],
 "metadata": {
  "kernelspec": {
   "display_name": "Python 3.10.6 64-bit",
   "language": "python",
   "name": "python3"
  },
  "language_info": {
   "codemirror_mode": {
    "name": "ipython",
    "version": 3
   },
   "file_extension": ".py",
   "mimetype": "text/x-python",
   "name": "python",
   "nbconvert_exporter": "python",
   "pygments_lexer": "ipython3",
   "version": "3.10.6"
  },
  "varInspector": {
   "cols": {
    "lenName": 16,
    "lenType": 16,
    "lenVar": 40
   },
   "kernels_config": {
    "python": {
     "delete_cmd_postfix": "",
     "delete_cmd_prefix": "del ",
     "library": "var_list.py",
     "varRefreshCmd": "print(var_dic_list())"
    },
    "r": {
     "delete_cmd_postfix": ") ",
     "delete_cmd_prefix": "rm(",
     "library": "var_list.r",
     "varRefreshCmd": "cat(var_dic_list()) "
    }
   },
   "types_to_exclude": [
    "module",
    "function",
    "builtin_function_or_method",
    "instance",
    "_Feature"
   ],
   "window_display": false
  },
  "vscode": {
   "interpreter": {
    "hash": "b0fa6594d8f4cbf19f97940f81e996739fb7646882a419484c72d19e05852a7e"
   }
  }
 },
 "nbformat": 4,
 "nbformat_minor": 4
}
