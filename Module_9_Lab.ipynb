{
 "cells": [
  {
   "cell_type": "markdown",
   "metadata": {},
   "source": [
    "# Lab 9 - APIs\n"
   ]
  },
  {
   "cell_type": "code",
   "execution_count": 1,
   "metadata": {
    "tags": []
   },
   "outputs": [],
   "source": [
    "import pandas as pd\n",
    "import numpy as np\n",
    "import requests\n",
    "from pandas.io.json import json_normalize #special package in pandas\n",
    "import json\n"
   ]
  },
  {
   "cell_type": "markdown",
   "metadata": {},
   "source": [
    "# Part A: APIs"
   ]
  },
  {
   "cell_type": "markdown",
   "metadata": {},
   "source": [
    "## Wiki Dog Info"
   ]
  },
  {
   "cell_type": "code",
   "execution_count": 10,
   "metadata": {
    "tags": []
   },
   "outputs": [
    {
     "name": "stdout",
     "output_type": "stream",
     "text": [
      "{\"batchcomplete\":\"\",\"query\":{\"pages\":{\"4269567\":{\"pageid\":4269567,\"ns\":0,\"title\":\"Dog\",\"contentmodel\":\"wikitext\",\"pagelanguage\":\"en\",\"pagelanguagehtmlcode\":\"en\",\"pagelanguagedir\":\"ltr\",\"touched\":\"2022-11-11T22:25:29Z\",\"lastrevid\":1121154166,\"length\":113961}}}}\n"
     ]
    }
   ],
   "source": [
    "# download the response from Wikipedia API endpoint https://en.wikipedia.org/w/api.php \n",
    "# to get general information about the Dog Wikipedia article\n",
    "# ask for the output as json\n",
    "# HINT: prop = info\n",
    "\n",
    "# save output and print\n",
    "\n",
    "url = \"https://en.wikipedia.org/w/api.php?action=query&prop=info&titles=Dog&format=json\"\n",
    "dog = requests.get(url)\n",
    "print(dog.text)"
   ]
  },
  {
   "cell_type": "code",
   "execution_count": 11,
   "metadata": {
    "tags": []
   },
   "outputs": [
    {
     "name": "stdout",
     "output_type": "stream",
     "text": [
      "{'batchcomplete': '', 'query': {'pages': {'4269567': {'pageid': 4269567, 'ns': 0, 'title': 'Dog', 'contentmodel': 'wikitext', 'pagelanguage': 'en', 'pagelanguagehtmlcode': 'en', 'pagelanguagedir': 'ltr', 'touched': '2022-11-11T22:25:29Z', 'lastrevid': 1121154166, 'length': 113961}}}}\n"
     ]
    }
   ],
   "source": [
    "# convert json string into json object using json.loads (HINT: you need the text from the request object)\n",
    "dog_json = json.loads(dog.text)\n",
    "print(dog_json)"
   ]
  },
  {
   "cell_type": "markdown",
   "metadata": {},
   "source": [
    "## Wiki Dog Revisions"
   ]
  },
  {
   "cell_type": "code",
   "execution_count": 12,
   "metadata": {
    "tags": []
   },
   "outputs": [
    {
     "name": "stdout",
     "output_type": "stream",
     "text": [
      "{\"batchcomplete\":\"\",\"query\":{\"pages\":{\"4269567\":{\"pageid\":4269567,\"ns\":0,\"title\":\"Dog\",\"revisions\":[{\"revid\":1121154166,\"parentid\":1121150338,\"user\":\"SilverTiger12\",\"timestamp\":\"2022-11-10T20:08:28Z\",\"comment\":\"rmv non-encyclopedic content\"}]}}}}\n"
     ]
    }
   ],
   "source": [
    "# download the response from Wikipedia API endpoint https://en.wikipedia.org/w/api.php \n",
    "# to get the latest revision information (last revision) for the Dog Wikipedia article\n",
    "# ask for the output as json\n",
    "# HINT: prop = revisions\n",
    "\n",
    "# save output and print\n",
    "\n",
    "\n",
    "url = \"https://en.wikipedia.org/w/api.php?action=query&prop=revisions&titles=Dog&format=json\"\n",
    "dog = requests.get(url)\n",
    "print(dog.text)\n"
   ]
  },
  {
   "cell_type": "code",
   "execution_count": 13,
   "metadata": {
    "tags": []
   },
   "outputs": [
    {
     "name": "stdout",
     "output_type": "stream",
     "text": [
      "{'batchcomplete': '', 'query': {'pages': {'4269567': {'pageid': 4269567, 'ns': 0, 'title': 'Dog', 'revisions': [{'revid': 1121154166, 'parentid': 1121150338, 'user': 'SilverTiger12', 'timestamp': '2022-11-10T20:08:28Z', 'comment': 'rmv non-encyclopedic content'}]}}}}\n"
     ]
    }
   ],
   "source": [
    "# convert json string into json object using json.loads (HINT: you need the text from the request object)\n",
    "dogrev_json = json.loads(dog.text)\n",
    "print(dogrev_json)"
   ]
  },
  {
   "cell_type": "code",
   "execution_count": 15,
   "metadata": {
    "tags": []
   },
   "outputs": [
    {
     "data": {
      "text/html": [
       "<div>\n",
       "<style scoped>\n",
       "    .dataframe tbody tr th:only-of-type {\n",
       "        vertical-align: middle;\n",
       "    }\n",
       "\n",
       "    .dataframe tbody tr th {\n",
       "        vertical-align: top;\n",
       "    }\n",
       "\n",
       "    .dataframe thead th {\n",
       "        text-align: right;\n",
       "    }\n",
       "</style>\n",
       "<table border=\"1\" class=\"dataframe\">\n",
       "  <thead>\n",
       "    <tr style=\"text-align: right;\">\n",
       "      <th></th>\n",
       "      <th>revid</th>\n",
       "      <th>parentid</th>\n",
       "      <th>user</th>\n",
       "      <th>timestamp</th>\n",
       "      <th>comment</th>\n",
       "    </tr>\n",
       "  </thead>\n",
       "  <tbody>\n",
       "    <tr>\n",
       "      <th>0</th>\n",
       "      <td>1121154166</td>\n",
       "      <td>1121150338</td>\n",
       "      <td>SilverTiger12</td>\n",
       "      <td>2022-11-10T20:08:28Z</td>\n",
       "      <td>rmv non-encyclopedic content</td>\n",
       "    </tr>\n",
       "  </tbody>\n",
       "</table>\n",
       "</div>"
      ],
      "text/plain": [
       "        revid    parentid           user             timestamp  \\\n",
       "0  1121154166  1121150338  SilverTiger12  2022-11-10T20:08:28Z   \n",
       "\n",
       "                        comment  \n",
       "0  rmv non-encyclopedic content  "
      ]
     },
     "execution_count": 15,
     "metadata": {},
     "output_type": "execute_result"
    }
   ],
   "source": [
    "# flatten json data into a data frame where each row is a revision (HINT: you should end up with a dataframe with one\n",
    "# observation)\n",
    "\n",
    "# print dataframe\n",
    "dogrev_df = pd.json_normalize(dogrev_json['query']['pages']['4269567']['revisions'])\n",
    "dogrev_df"
   ]
  },
  {
   "cell_type": "code",
   "execution_count": 16,
   "metadata": {
    "tags": []
   },
   "outputs": [
    {
     "name": "stdout",
     "output_type": "stream",
     "text": [
      "{\"continue\":{\"rvcontinue\":\"20221103181545|1119842745\",\"continue\":\"||\"},\"query\":{\"pages\":{\"4269567\":{\"pageid\":4269567,\"ns\":0,\"title\":\"Dog\",\"revisions\":[{\"revid\":1121154166,\"parentid\":1121150338,\"user\":\"SilverTiger12\",\"timestamp\":\"2022-11-10T20:08:28Z\",\"comment\":\"rmv non-encyclopedic content\"},{\"revid\":1121150338,\"parentid\":1121150248,\"user\":\"Melanierobertson\",\"timestamp\":\"2022-11-10T19:42:28Z\",\"comment\":\"/* Mental Health Benefits */  conclusion from sandbox\"},{\"revid\":1121150248,\"parentid\":1121150157,\"user\":\"Melanierobertson\",\"timestamp\":\"2022-11-10T19:41:56Z\",\"comment\":\"/* Mental Health Benefits */  paragraph four from personal sandbox\"},{\"revid\":1121150157,\"parentid\":1121150054,\"user\":\"Melanierobertson\",\"timestamp\":\"2022-11-10T19:41:20Z\",\"comment\":\"/* Mental Health Benefits */  paragraph three from personal sandbox\"},{\"revid\":1121150054,\"parentid\":1121149938,\"user\":\"Melanierobertson\",\"timestamp\":\"2022-11-10T19:40:42Z\",\"comment\":\"paragraph two from sandbox draft\"},{\"revid\":1121149938,\"parentid\":1120784490,\"user\":\"Melanierobertson\",\"timestamp\":\"2022-11-10T19:39:59Z\",\"comment\":\"paragraph one from sandbox draft\"},{\"revid\":1120784490,\"parentid\":1120783996,\"user\":\"Justlettersandnumbers\",\"timestamp\":\"2022-11-08T20:16:07Z\",\"comment\":\"source doesn't say anything of the sort \\u2013 merely that the oldest living dog is dead (work that one out!)\"},{\"revid\":1120783996,\"parentid\":1120777199,\"user\":\"Justlettersandnumbers\",\"timestamp\":\"2022-11-08T20:12:53Z\",\"comment\":\"Restored revision 1120744597 by [[Special:Contributions/GameEnd|GameEnd]] ([[User talk:GameEnd|talk]]): Sorry, but this is not encyclopaedic content; \\\"health benefits\\\" are discussed in the previous section\"},{\"revid\":1120777199,\"parentid\":1120744597,\"user\":\"Melanierobertson\",\"timestamp\":\"2022-11-08T19:31:40Z\",\"comment\":\"The section Mental Health Benefits was copied from my own sandbox. User: @Melanierobertson/sandbox\"},{\"revid\":1120744597,\"parentid\":1120744545,\"user\":\"GameEnd\",\"timestamp\":\"2022-11-08T16:03:48Z\",\"comment\":\"/* Pets */\"},{\"revid\":1120744545,\"parentid\":1119844781,\"user\":\"GameEnd\",\"timestamp\":\"2022-11-08T16:03:30Z\",\"comment\":\"/* Pets */\"},{\"revid\":1119844781,\"parentid\":1119844243,\"user\":\"Surtsicna\",\"timestamp\":\"2022-11-03T18:28:43Z\",\"comment\":\"/* Neutering */\"},{\"revid\":1119844243,\"parentid\":1119843617,\"user\":\"Surtsicna\",\"timestamp\":\"2022-11-03T18:25:30Z\",\"comment\":\"Link what you say and say what you link.\"},{\"revid\":1119843617,\"parentid\":1119843506,\"user\":\"Surtsicna\",\"timestamp\":\"2022-11-03T18:21:24Z\",\"comment\":\"/* Breeds */\"},{\"revid\":1119843506,\"parentid\":1119842745,\"user\":\"Surtsicna\",\"timestamp\":\"2022-11-03T18:20:41Z\",\"comment\":\"/* Domestication */\"}]}}}}\n"
     ]
    }
   ],
   "source": [
    "# download the last 15 revisions to the dog page\n",
    "# ask for the output as json\n",
    "# HINT: use rvlimit\n",
    "\n",
    "# save output and print\n",
    "url = \"https://en.wikipedia.org/w/api.php?action=query&prop=revisions&rvlimit=15&titles=Dog&format=json\"\n",
    "dog = requests.get(url)\n",
    "\n",
    "print(dog.text)"
   ]
  },
  {
   "cell_type": "code",
   "execution_count": 17,
   "metadata": {
    "tags": []
   },
   "outputs": [
    {
     "name": "stdout",
     "output_type": "stream",
     "text": [
      "{'continue': {'rvcontinue': '20221103181545|1119842745', 'continue': '||'}, 'query': {'pages': {'4269567': {'pageid': 4269567, 'ns': 0, 'title': 'Dog', 'revisions': [{'revid': 1121154166, 'parentid': 1121150338, 'user': 'SilverTiger12', 'timestamp': '2022-11-10T20:08:28Z', 'comment': 'rmv non-encyclopedic content'}, {'revid': 1121150338, 'parentid': 1121150248, 'user': 'Melanierobertson', 'timestamp': '2022-11-10T19:42:28Z', 'comment': '/* Mental Health Benefits */  conclusion from sandbox'}, {'revid': 1121150248, 'parentid': 1121150157, 'user': 'Melanierobertson', 'timestamp': '2022-11-10T19:41:56Z', 'comment': '/* Mental Health Benefits */  paragraph four from personal sandbox'}, {'revid': 1121150157, 'parentid': 1121150054, 'user': 'Melanierobertson', 'timestamp': '2022-11-10T19:41:20Z', 'comment': '/* Mental Health Benefits */  paragraph three from personal sandbox'}, {'revid': 1121150054, 'parentid': 1121149938, 'user': 'Melanierobertson', 'timestamp': '2022-11-10T19:40:42Z', 'comment': 'paragraph two from sandbox draft'}, {'revid': 1121149938, 'parentid': 1120784490, 'user': 'Melanierobertson', 'timestamp': '2022-11-10T19:39:59Z', 'comment': 'paragraph one from sandbox draft'}, {'revid': 1120784490, 'parentid': 1120783996, 'user': 'Justlettersandnumbers', 'timestamp': '2022-11-08T20:16:07Z', 'comment': \"source doesn't say anything of the sort – merely that the oldest living dog is dead (work that one out!)\"}, {'revid': 1120783996, 'parentid': 1120777199, 'user': 'Justlettersandnumbers', 'timestamp': '2022-11-08T20:12:53Z', 'comment': 'Restored revision 1120744597 by [[Special:Contributions/GameEnd|GameEnd]] ([[User talk:GameEnd|talk]]): Sorry, but this is not encyclopaedic content; \"health benefits\" are discussed in the previous section'}, {'revid': 1120777199, 'parentid': 1120744597, 'user': 'Melanierobertson', 'timestamp': '2022-11-08T19:31:40Z', 'comment': 'The section Mental Health Benefits was copied from my own sandbox. User: @Melanierobertson/sandbox'}, {'revid': 1120744597, 'parentid': 1120744545, 'user': 'GameEnd', 'timestamp': '2022-11-08T16:03:48Z', 'comment': '/* Pets */'}, {'revid': 1120744545, 'parentid': 1119844781, 'user': 'GameEnd', 'timestamp': '2022-11-08T16:03:30Z', 'comment': '/* Pets */'}, {'revid': 1119844781, 'parentid': 1119844243, 'user': 'Surtsicna', 'timestamp': '2022-11-03T18:28:43Z', 'comment': '/* Neutering */'}, {'revid': 1119844243, 'parentid': 1119843617, 'user': 'Surtsicna', 'timestamp': '2022-11-03T18:25:30Z', 'comment': 'Link what you say and say what you link.'}, {'revid': 1119843617, 'parentid': 1119843506, 'user': 'Surtsicna', 'timestamp': '2022-11-03T18:21:24Z', 'comment': '/* Breeds */'}, {'revid': 1119843506, 'parentid': 1119842745, 'user': 'Surtsicna', 'timestamp': '2022-11-03T18:20:41Z', 'comment': '/* Domestication */'}]}}}}\n"
     ]
    }
   ],
   "source": [
    "# convert json string into json object using json.loads (HINT: you need the text from the request object)\n",
    "dogrev_json = json.loads(dog.text)\n",
    "print(dogrev_json)"
   ]
  },
  {
   "cell_type": "code",
   "execution_count": 25,
   "metadata": {
    "tags": []
   },
   "outputs": [
    {
     "name": "stdout",
     "output_type": "stream",
     "text": [
      "15\n"
     ]
    },
    {
     "data": {
      "text/html": [
       "<div>\n",
       "<style scoped>\n",
       "    .dataframe tbody tr th:only-of-type {\n",
       "        vertical-align: middle;\n",
       "    }\n",
       "\n",
       "    .dataframe tbody tr th {\n",
       "        vertical-align: top;\n",
       "    }\n",
       "\n",
       "    .dataframe thead th {\n",
       "        text-align: right;\n",
       "    }\n",
       "</style>\n",
       "<table border=\"1\" class=\"dataframe\">\n",
       "  <thead>\n",
       "    <tr style=\"text-align: right;\">\n",
       "      <th></th>\n",
       "      <th>revid</th>\n",
       "      <th>parentid</th>\n",
       "      <th>user</th>\n",
       "      <th>timestamp</th>\n",
       "      <th>comment</th>\n",
       "    </tr>\n",
       "  </thead>\n",
       "  <tbody>\n",
       "    <tr>\n",
       "      <th>0</th>\n",
       "      <td>1121154166</td>\n",
       "      <td>1121150338</td>\n",
       "      <td>SilverTiger12</td>\n",
       "      <td>2022-11-10T20:08:28Z</td>\n",
       "      <td>rmv non-encyclopedic content</td>\n",
       "    </tr>\n",
       "    <tr>\n",
       "      <th>1</th>\n",
       "      <td>1121150338</td>\n",
       "      <td>1121150248</td>\n",
       "      <td>Melanierobertson</td>\n",
       "      <td>2022-11-10T19:42:28Z</td>\n",
       "      <td>/* Mental Health Benefits */  conclusion from ...</td>\n",
       "    </tr>\n",
       "    <tr>\n",
       "      <th>2</th>\n",
       "      <td>1121150248</td>\n",
       "      <td>1121150157</td>\n",
       "      <td>Melanierobertson</td>\n",
       "      <td>2022-11-10T19:41:56Z</td>\n",
       "      <td>/* Mental Health Benefits */  paragraph four f...</td>\n",
       "    </tr>\n",
       "    <tr>\n",
       "      <th>3</th>\n",
       "      <td>1121150157</td>\n",
       "      <td>1121150054</td>\n",
       "      <td>Melanierobertson</td>\n",
       "      <td>2022-11-10T19:41:20Z</td>\n",
       "      <td>/* Mental Health Benefits */  paragraph three ...</td>\n",
       "    </tr>\n",
       "    <tr>\n",
       "      <th>4</th>\n",
       "      <td>1121150054</td>\n",
       "      <td>1121149938</td>\n",
       "      <td>Melanierobertson</td>\n",
       "      <td>2022-11-10T19:40:42Z</td>\n",
       "      <td>paragraph two from sandbox draft</td>\n",
       "    </tr>\n",
       "  </tbody>\n",
       "</table>\n",
       "</div>"
      ],
      "text/plain": [
       "        revid    parentid              user             timestamp  \\\n",
       "0  1121154166  1121150338     SilverTiger12  2022-11-10T20:08:28Z   \n",
       "1  1121150338  1121150248  Melanierobertson  2022-11-10T19:42:28Z   \n",
       "2  1121150248  1121150157  Melanierobertson  2022-11-10T19:41:56Z   \n",
       "3  1121150157  1121150054  Melanierobertson  2022-11-10T19:41:20Z   \n",
       "4  1121150054  1121149938  Melanierobertson  2022-11-10T19:40:42Z   \n",
       "\n",
       "                                             comment  \n",
       "0                       rmv non-encyclopedic content  \n",
       "1  /* Mental Health Benefits */  conclusion from ...  \n",
       "2  /* Mental Health Benefits */  paragraph four f...  \n",
       "3  /* Mental Health Benefits */  paragraph three ...  \n",
       "4                   paragraph two from sandbox draft  "
      ]
     },
     "execution_count": 25,
     "metadata": {},
     "output_type": "execute_result"
    }
   ],
   "source": [
    "# flatten json data into a data frame where each row is a revision \n",
    "\n",
    "# count the number of rows\n",
    "\n",
    "# print the first few rows\n",
    "\n",
    "dogrev_df = pd.json_normalize(dogrev_json['query']['pages']['4269567']['revisions'])\n",
    "print(len(dogrev_df.index))\n",
    "dogrev_df.head()\n"
   ]
  }
 ],
 "metadata": {
  "kernelspec": {
   "display_name": "Python 3 (ipykernel)",
   "language": "python",
   "name": "python3"
  },
  "language_info": {
   "codemirror_mode": {
    "name": "ipython",
    "version": 3
   },
   "file_extension": ".py",
   "mimetype": "text/x-python",
   "name": "python",
   "nbconvert_exporter": "python",
   "pygments_lexer": "ipython3",
   "version": "3.10.6"
  },
  "varInspector": {
   "cols": {
    "lenName": 16,
    "lenType": 16,
    "lenVar": 40
   },
   "kernels_config": {
    "python": {
     "delete_cmd_postfix": "",
     "delete_cmd_prefix": "del ",
     "library": "var_list.py",
     "varRefreshCmd": "print(var_dic_list())"
    },
    "r": {
     "delete_cmd_postfix": ") ",
     "delete_cmd_prefix": "rm(",
     "library": "var_list.r",
     "varRefreshCmd": "cat(var_dic_list()) "
    }
   },
   "types_to_exclude": [
    "module",
    "function",
    "builtin_function_or_method",
    "instance",
    "_Feature"
   ],
   "window_display": false
  }
 },
 "nbformat": 4,
 "nbformat_minor": 4
}
