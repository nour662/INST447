{
 "cells": [
  {
   "cell_type": "code",
   "execution_count": 36,
   "id": "4ff10400-8155-4d97-961c-3eafb210a2a8",
   "metadata": {},
   "outputs": [],
   "source": [
    "## Import Statements \n",
    "import pandas as pd \n",
    "from pandas.io.json import json_normalize \n",
    "import json"
   ]
  },
  {
   "cell_type": "markdown",
   "id": "fd995b7b-bed0-4a9c-ae6b-e582ff98e936",
   "metadata": {},
   "source": [
    "Questions 8-9 "
   ]
  },
  {
   "cell_type": "code",
   "execution_count": 37,
   "id": "76423324-5517-48bc-b7b8-9e1f4f6e4e66",
   "metadata": {},
   "outputs": [],
   "source": [
    "covid = pd.read_csv('covid19.csv')"
   ]
  },
  {
   "cell_type": "code",
   "execution_count": 68,
   "id": "6b5a3485-92b0-4ccd-b000-104cecb4e486",
   "metadata": {},
   "outputs": [
    {
     "data": {
      "text/plain": [
       "count    476.000000\n",
       "mean      49.847689\n",
       "std       17.888556\n",
       "min        0.500000\n",
       "25%       36.000000\n",
       "50%       50.500000\n",
       "75%       65.000000\n",
       "max       89.000000\n",
       "Name: age, dtype: float64"
      ]
     },
     "execution_count": 68,
     "metadata": {},
     "output_type": "execute_result"
    }
   ],
   "source": [
    "#Question 8 \n",
    "average_age = covid[covid['gender'] == 'male']['age'].describe()\n",
    "average_age"
   ]
  },
  {
   "cell_type": "code",
   "execution_count": 85,
   "id": "87d2eef0-3a19-477d-b5f9-4f3eb723b582",
   "metadata": {},
   "outputs": [
    {
     "data": {
      "text/plain": [
       "country\n",
       "Afghanistan      1\n",
       "Algeria          1\n",
       "Australia       15\n",
       "Austria          2\n",
       "Bahrain         17\n",
       "Belgium          1\n",
       "Cambodia         1\n",
       "Canada          12\n",
       "China          197\n",
       "Croatia          1\n",
       "Egypt            1\n",
       "Finland          1\n",
       "France          39\n",
       "Germany         54\n",
       "Hong Kong       94\n",
       "India            3\n",
       "Iran            18\n",
       "Israel           1\n",
       "Italy            3\n",
       "Japan          190\n",
       "Kuwait           9\n",
       "Lebanon          1\n",
       "Malaysia        23\n",
       "Nepal            1\n",
       "Phillipines      3\n",
       "Russia           2\n",
       "Singapore       93\n",
       "South Korea    114\n",
       "Spain           34\n",
       "Sri Lanka        1\n",
       "Sweden           1\n",
       "Switzerland      1\n",
       "Taiwan          34\n",
       "Thailand        41\n",
       "UAE             21\n",
       "UK              20\n",
       "USA             18\n",
       "Vietnam         16\n",
       "Name: country, dtype: int64"
      ]
     },
     "execution_count": 85,
     "metadata": {},
     "output_type": "execute_result"
    }
   ],
   "source": [
    "#Question 9 \n",
    "country =  covid.groupby(['country'])['country'].count()\n",
    "country"
   ]
  },
  {
   "cell_type": "markdown",
   "id": "7a8e4799-b75b-4a0d-a5e2-792801ea95be",
   "metadata": {},
   "source": [
    "Questions 10-12 "
   ]
  },
  {
   "cell_type": "code",
   "execution_count": 91,
   "id": "7133a3bd-bfcd-47ea-bb99-5d780eecccd2",
   "metadata": {},
   "outputs": [],
   "source": [
    "de = pd.read_csv('dewiki_pageviews.csv')\n",
    "en = pd.read_csv('enwiki_pageviews.csv')"
   ]
  },
  {
   "cell_type": "code",
   "execution_count": 101,
   "id": "09ff2c46-dec6-4798-bc2e-6348a63ad47a",
   "metadata": {},
   "outputs": [
    {
     "data": {
      "text/plain": [
       "count        21.000000\n",
       "mean      94191.095238\n",
       "std       86612.118753\n",
       "min         479.000000\n",
       "25%        9863.000000\n",
       "50%       84529.000000\n",
       "75%      149603.000000\n",
       "max      346410.000000\n",
       "Name: GermanPageviews, dtype: float64"
      ]
     },
     "execution_count": 101,
     "metadata": {},
     "output_type": "execute_result"
    }
   ],
   "source": [
    "#Question 10 \n",
    "de['GermanPageviews'] = de['NovelCoronavirus']+ de['Coronavirus']\n",
    "de['GermanPageviews'].describe()"
   ]
  },
  {
   "cell_type": "code",
   "execution_count": 115,
   "id": "591510b2-8116-40b1-ac18-09a077910032",
   "metadata": {},
   "outputs": [
    {
     "data": {
      "text/plain": [
       "(21, 6)"
      ]
     },
     "execution_count": 115,
     "metadata": {},
     "output_type": "execute_result"
    }
   ],
   "source": [
    "#Question 11\n",
    "df =  pd.merge(de,en,how='inner',on=['Date'])\n",
    "\n",
    "#Question 12\n",
    "df.shape"
   ]
  },
  {
   "cell_type": "markdown",
   "id": "36dc5605-a6a2-47fa-9d27-83a42e4ed1f0",
   "metadata": {},
   "source": [
    "Question 13-15"
   ]
  },
  {
   "cell_type": "code",
   "execution_count": 116,
   "id": "80efc4f5-856a-497c-b511-20c6d9108110",
   "metadata": {},
   "outputs": [],
   "source": [
    "#Question 13 \n",
    "tweets = open('tweets.json')\n",
    "tweets_obj = json.load(tweets)\n",
    "tweets_obj"
   ]
  },
  {
   "cell_type": "code",
   "execution_count": 113,
   "id": "2955d962-3d1c-4c1f-b7f5-c245aba768f5",
   "metadata": {},
   "outputs": [
    {
     "name": "stderr",
     "output_type": "stream",
     "text": [
      "/var/folders/3z/502yf7vd36g68b85pr331rqh0000gn/T/ipykernel_76614/3753935798.py:3: FutureWarning: pandas.io.json.json_normalize is deprecated, use pandas.json_normalize instead.\n",
      "  tweets_df = json_normalize(tweets_obj['user'])\n"
     ]
    },
    {
     "data": {
      "text/html": [
       "<div>\n",
       "<style scoped>\n",
       "    .dataframe tbody tr th:only-of-type {\n",
       "        vertical-align: middle;\n",
       "    }\n",
       "\n",
       "    .dataframe tbody tr th {\n",
       "        vertical-align: top;\n",
       "    }\n",
       "\n",
       "    .dataframe thead th {\n",
       "        text-align: right;\n",
       "    }\n",
       "</style>\n",
       "<table border=\"1\" class=\"dataframe\">\n",
       "  <thead>\n",
       "    <tr style=\"text-align: right;\">\n",
       "      <th></th>\n",
       "      <th>id</th>\n",
       "      <th>id_str</th>\n",
       "      <th>name</th>\n",
       "      <th>screen_name</th>\n",
       "      <th>location</th>\n",
       "      <th>url</th>\n",
       "      <th>description</th>\n",
       "      <th>translator_type</th>\n",
       "      <th>protected</th>\n",
       "      <th>verified</th>\n",
       "      <th>...</th>\n",
       "      <th>profile_text_color</th>\n",
       "      <th>profile_use_background_image</th>\n",
       "      <th>profile_image_url</th>\n",
       "      <th>profile_image_url_https</th>\n",
       "      <th>profile_banner_url</th>\n",
       "      <th>default_profile</th>\n",
       "      <th>default_profile_image</th>\n",
       "      <th>following</th>\n",
       "      <th>follow_request_sent</th>\n",
       "      <th>notifications</th>\n",
       "    </tr>\n",
       "  </thead>\n",
       "  <tbody>\n",
       "    <tr>\n",
       "      <th>0</th>\n",
       "      <td>624248526</td>\n",
       "      <td>624248526</td>\n",
       "      <td>Azalia</td>\n",
       "      <td>a_degollado</td>\n",
       "      <td>Texas, USA</td>\n",
       "      <td>None</td>\n",
       "      <td>21 • TXARNG •</td>\n",
       "      <td>none</td>\n",
       "      <td>False</td>\n",
       "      <td>False</td>\n",
       "      <td>...</td>\n",
       "      <td>3D1957</td>\n",
       "      <td>True</td>\n",
       "      <td>http://pbs.twimg.com/profile_images/1287596857...</td>\n",
       "      <td>https://pbs.twimg.com/profile_images/128759685...</td>\n",
       "      <td>https://pbs.twimg.com/profile_banners/62424852...</td>\n",
       "      <td>False</td>\n",
       "      <td>False</td>\n",
       "      <td>None</td>\n",
       "      <td>None</td>\n",
       "      <td>None</td>\n",
       "    </tr>\n",
       "  </tbody>\n",
       "</table>\n",
       "<p>1 rows × 39 columns</p>\n",
       "</div>"
      ],
      "text/plain": [
       "          id     id_str    name  screen_name    location   url    description  \\\n",
       "0  624248526  624248526  Azalia  a_degollado  Texas, USA  None  21 • TXARNG •   \n",
       "\n",
       "  translator_type  protected  verified  ...  profile_text_color  \\\n",
       "0            none      False     False  ...              3D1957   \n",
       "\n",
       "   profile_use_background_image  \\\n",
       "0                          True   \n",
       "\n",
       "                                   profile_image_url  \\\n",
       "0  http://pbs.twimg.com/profile_images/1287596857...   \n",
       "\n",
       "                             profile_image_url_https  \\\n",
       "0  https://pbs.twimg.com/profile_images/128759685...   \n",
       "\n",
       "                                  profile_banner_url default_profile  \\\n",
       "0  https://pbs.twimg.com/profile_banners/62424852...           False   \n",
       "\n",
       "  default_profile_image following  follow_request_sent notifications  \n",
       "0                 False      None                 None          None  \n",
       "\n",
       "[1 rows x 39 columns]"
      ]
     },
     "execution_count": 113,
     "metadata": {},
     "output_type": "execute_result"
    }
   ],
   "source": [
    "#Question 14 & 15\n",
    "tweets_df = json_normalize(tweets_obj['user'])\n",
    "tweets_df"
   ]
  },
  {
   "cell_type": "markdown",
   "id": "de8a5b23-1818-40b6-aa27-fd82e39b6584",
   "metadata": {},
   "source": [
    "Question 16-20"
   ]
  },
  {
   "cell_type": "code",
   "execution_count": 119,
   "id": "bae6b8fd-4e10-444c-a0af-3d311b513030",
   "metadata": {},
   "outputs": [],
   "source": [
    "#Question 16 \n",
    "f = open(\"nobel_prizes.json\")\n",
    "prizes = json.load(f)"
   ]
  },
  {
   "cell_type": "code",
   "execution_count": 127,
   "id": "61dae4c3-c2bf-4b6c-9510-0330c3cd6451",
   "metadata": {},
   "outputs": [
    {
     "name": "stderr",
     "output_type": "stream",
     "text": [
      "/var/folders/3z/502yf7vd36g68b85pr331rqh0000gn/T/ipykernel_76614/1181643601.py:2: FutureWarning: pandas.io.json.json_normalize is deprecated, use pandas.json_normalize instead.\n",
      "  prizes_df = json_normalize(prizes, record_path=\"laureates\", meta=[\"year\",\"category\"])\n"
     ]
    },
    {
     "data": {
      "text/html": [
       "<div>\n",
       "<style scoped>\n",
       "    .dataframe tbody tr th:only-of-type {\n",
       "        vertical-align: middle;\n",
       "    }\n",
       "\n",
       "    .dataframe tbody tr th {\n",
       "        vertical-align: top;\n",
       "    }\n",
       "\n",
       "    .dataframe thead th {\n",
       "        text-align: right;\n",
       "    }\n",
       "</style>\n",
       "<table border=\"1\" class=\"dataframe\">\n",
       "  <thead>\n",
       "    <tr style=\"text-align: right;\">\n",
       "      <th></th>\n",
       "      <th>id</th>\n",
       "      <th>firstname</th>\n",
       "      <th>surname</th>\n",
       "      <th>motivation</th>\n",
       "      <th>share</th>\n",
       "      <th>year</th>\n",
       "      <th>category</th>\n",
       "    </tr>\n",
       "  </thead>\n",
       "  <tbody>\n",
       "    <tr>\n",
       "      <th>0</th>\n",
       "      <td>976</td>\n",
       "      <td>John</td>\n",
       "      <td>Goodenough</td>\n",
       "      <td>\"for the development of lithium-ion batteries\"</td>\n",
       "      <td>3</td>\n",
       "      <td>2019</td>\n",
       "      <td>chemistry</td>\n",
       "    </tr>\n",
       "    <tr>\n",
       "      <th>1</th>\n",
       "      <td>977</td>\n",
       "      <td>M. Stanley</td>\n",
       "      <td>Whittingham</td>\n",
       "      <td>\"for the development of lithium-ion batteries\"</td>\n",
       "      <td>3</td>\n",
       "      <td>2019</td>\n",
       "      <td>chemistry</td>\n",
       "    </tr>\n",
       "    <tr>\n",
       "      <th>2</th>\n",
       "      <td>978</td>\n",
       "      <td>Akira</td>\n",
       "      <td>Yoshino</td>\n",
       "      <td>\"for the development of lithium-ion batteries\"</td>\n",
       "      <td>3</td>\n",
       "      <td>2019</td>\n",
       "      <td>chemistry</td>\n",
       "    </tr>\n",
       "    <tr>\n",
       "      <th>3</th>\n",
       "      <td>982</td>\n",
       "      <td>Abhijit</td>\n",
       "      <td>Banerjee</td>\n",
       "      <td>\"for their experimental approach to alleviatin...</td>\n",
       "      <td>3</td>\n",
       "      <td>2019</td>\n",
       "      <td>economics</td>\n",
       "    </tr>\n",
       "    <tr>\n",
       "      <th>4</th>\n",
       "      <td>983</td>\n",
       "      <td>Esther</td>\n",
       "      <td>Duflo</td>\n",
       "      <td>\"for their experimental approach to alleviatin...</td>\n",
       "      <td>3</td>\n",
       "      <td>2019</td>\n",
       "      <td>economics</td>\n",
       "    </tr>\n",
       "    <tr>\n",
       "      <th>...</th>\n",
       "      <td>...</td>\n",
       "      <td>...</td>\n",
       "      <td>...</td>\n",
       "      <td>...</td>\n",
       "      <td>...</td>\n",
       "      <td>...</td>\n",
       "      <td>...</td>\n",
       "    </tr>\n",
       "    <tr>\n",
       "      <th>494</th>\n",
       "      <td>103</td>\n",
       "      <td>Ben R.</td>\n",
       "      <td>Mottelson</td>\n",
       "      <td>\"for the discovery of the connection between c...</td>\n",
       "      <td>3</td>\n",
       "      <td>1975</td>\n",
       "      <td>physics</td>\n",
       "    </tr>\n",
       "    <tr>\n",
       "      <th>495</th>\n",
       "      <td>104</td>\n",
       "      <td>James</td>\n",
       "      <td>Rainwater</td>\n",
       "      <td>\"for the discovery of the connection between c...</td>\n",
       "      <td>3</td>\n",
       "      <td>1975</td>\n",
       "      <td>physics</td>\n",
       "    </tr>\n",
       "    <tr>\n",
       "      <th>496</th>\n",
       "      <td>406</td>\n",
       "      <td>David</td>\n",
       "      <td>Baltimore</td>\n",
       "      <td>\"for their discoveries concerning the interact...</td>\n",
       "      <td>3</td>\n",
       "      <td>1975</td>\n",
       "      <td>medicine</td>\n",
       "    </tr>\n",
       "    <tr>\n",
       "      <th>497</th>\n",
       "      <td>407</td>\n",
       "      <td>Renato</td>\n",
       "      <td>Dulbecco</td>\n",
       "      <td>\"for their discoveries concerning the interact...</td>\n",
       "      <td>3</td>\n",
       "      <td>1975</td>\n",
       "      <td>medicine</td>\n",
       "    </tr>\n",
       "    <tr>\n",
       "      <th>498</th>\n",
       "      <td>408</td>\n",
       "      <td>Howard M.</td>\n",
       "      <td>Temin</td>\n",
       "      <td>\"for their discoveries concerning the interact...</td>\n",
       "      <td>3</td>\n",
       "      <td>1975</td>\n",
       "      <td>medicine</td>\n",
       "    </tr>\n",
       "  </tbody>\n",
       "</table>\n",
       "<p>499 rows × 7 columns</p>\n",
       "</div>"
      ],
      "text/plain": [
       "      id   firstname      surname  \\\n",
       "0    976        John   Goodenough   \n",
       "1    977  M. Stanley  Whittingham   \n",
       "2    978       Akira      Yoshino   \n",
       "3    982     Abhijit     Banerjee   \n",
       "4    983      Esther        Duflo   \n",
       "..   ...         ...          ...   \n",
       "494  103      Ben R.    Mottelson   \n",
       "495  104       James    Rainwater   \n",
       "496  406       David    Baltimore   \n",
       "497  407      Renato     Dulbecco   \n",
       "498  408   Howard M.        Temin   \n",
       "\n",
       "                                            motivation share  year   category  \n",
       "0       \"for the development of lithium-ion batteries\"     3  2019  chemistry  \n",
       "1       \"for the development of lithium-ion batteries\"     3  2019  chemistry  \n",
       "2       \"for the development of lithium-ion batteries\"     3  2019  chemistry  \n",
       "3    \"for their experimental approach to alleviatin...     3  2019  economics  \n",
       "4    \"for their experimental approach to alleviatin...     3  2019  economics  \n",
       "..                                                 ...   ...   ...        ...  \n",
       "494  \"for the discovery of the connection between c...     3  1975    physics  \n",
       "495  \"for the discovery of the connection between c...     3  1975    physics  \n",
       "496  \"for their discoveries concerning the interact...     3  1975   medicine  \n",
       "497  \"for their discoveries concerning the interact...     3  1975   medicine  \n",
       "498  \"for their discoveries concerning the interact...     3  1975   medicine  \n",
       "\n",
       "[499 rows x 7 columns]"
      ]
     },
     "execution_count": 127,
     "metadata": {},
     "output_type": "execute_result"
    }
   ],
   "source": [
    "#Question 17\n",
    "prizes_df = json_normalize(prizes, record_path=\"laureates\", meta=[\"year\",\"category\"])\n",
    "prizes_df"
   ]
  },
  {
   "cell_type": "code",
   "execution_count": 120,
   "id": "65aea871-d888-447e-abf8-bc0ea620a6da",
   "metadata": {},
   "outputs": [
    {
     "data": {
      "text/plain": [
       "category\n",
       "chemistry      98\n",
       "economics      75\n",
       "literature     45\n",
       "medicine      106\n",
       "peace          63\n",
       "physics       112\n",
       "Name: category, dtype: int64"
      ]
     },
     "execution_count": 120,
     "metadata": {},
     "output_type": "execute_result"
    }
   ],
   "source": [
    "#Question 18 & 20 \n",
    "prizes_count = prizes_df.groupby(['category'])['category'].count()\n",
    "prizes_count"
   ]
  },
  {
   "cell_type": "code",
   "execution_count": 129,
   "id": "10494f46-3385-4fd7-9307-2c8940340760",
   "metadata": {},
   "outputs": [
    {
     "data": {
      "text/html": [
       "<div>\n",
       "<style scoped>\n",
       "    .dataframe tbody tr th:only-of-type {\n",
       "        vertical-align: middle;\n",
       "    }\n",
       "\n",
       "    .dataframe tbody tr th {\n",
       "        vertical-align: top;\n",
       "    }\n",
       "\n",
       "    .dataframe thead th {\n",
       "        text-align: right;\n",
       "    }\n",
       "</style>\n",
       "<table border=\"1\" class=\"dataframe\">\n",
       "  <thead>\n",
       "    <tr style=\"text-align: right;\">\n",
       "      <th></th>\n",
       "      <th></th>\n",
       "      <th>id</th>\n",
       "    </tr>\n",
       "    <tr>\n",
       "      <th>year</th>\n",
       "      <th>category</th>\n",
       "      <th></th>\n",
       "    </tr>\n",
       "  </thead>\n",
       "  <tbody>\n",
       "    <tr>\n",
       "      <th rowspan=\"5\" valign=\"top\">1975</th>\n",
       "      <th>chemistry</th>\n",
       "      <td>2</td>\n",
       "    </tr>\n",
       "    <tr>\n",
       "      <th>economics</th>\n",
       "      <td>2</td>\n",
       "    </tr>\n",
       "    <tr>\n",
       "      <th>literature</th>\n",
       "      <td>1</td>\n",
       "    </tr>\n",
       "    <tr>\n",
       "      <th>medicine</th>\n",
       "      <td>3</td>\n",
       "    </tr>\n",
       "    <tr>\n",
       "      <th>peace</th>\n",
       "      <td>1</td>\n",
       "    </tr>\n",
       "    <tr>\n",
       "      <th>...</th>\n",
       "      <th>...</th>\n",
       "      <td>...</td>\n",
       "    </tr>\n",
       "    <tr>\n",
       "      <th rowspan=\"5\" valign=\"top\">2019</th>\n",
       "      <th>economics</th>\n",
       "      <td>3</td>\n",
       "    </tr>\n",
       "    <tr>\n",
       "      <th>literature</th>\n",
       "      <td>1</td>\n",
       "    </tr>\n",
       "    <tr>\n",
       "      <th>medicine</th>\n",
       "      <td>3</td>\n",
       "    </tr>\n",
       "    <tr>\n",
       "      <th>peace</th>\n",
       "      <td>1</td>\n",
       "    </tr>\n",
       "    <tr>\n",
       "      <th>physics</th>\n",
       "      <td>3</td>\n",
       "    </tr>\n",
       "  </tbody>\n",
       "</table>\n",
       "<p>270 rows × 1 columns</p>\n",
       "</div>"
      ],
      "text/plain": [
       "                 id\n",
       "year category      \n",
       "1975 chemistry    2\n",
       "     economics    2\n",
       "     literature   1\n",
       "     medicine     3\n",
       "     peace        1\n",
       "...              ..\n",
       "2019 economics    3\n",
       "     literature   1\n",
       "     medicine     3\n",
       "     peace        1\n",
       "     physics      3\n",
       "\n",
       "[270 rows x 1 columns]"
      ]
     },
     "execution_count": 129,
     "metadata": {},
     "output_type": "execute_result"
    }
   ],
   "source": [
    "#Question 19\n",
    "ndf = prizes_df[[\"year\",\"category\",\"id\"]].groupby([\"year\",\"category\"]).agg(\"count\")\n",
    "ndf"
   ]
  },
  {
   "cell_type": "code",
   "execution_count": null,
   "id": "f49fe91c-9631-4032-beba-ff644a23a38a",
   "metadata": {},
   "outputs": [],
   "source": []
  }
 ],
 "metadata": {
  "kernelspec": {
   "display_name": "Python 3 (ipykernel)",
   "language": "python",
   "name": "python3"
  },
  "language_info": {
   "codemirror_mode": {
    "name": "ipython",
    "version": 3
   },
   "file_extension": ".py",
   "mimetype": "text/x-python",
   "name": "python",
   "nbconvert_exporter": "python",
   "pygments_lexer": "ipython3",
   "version": "3.10.6"
  }
 },
 "nbformat": 4,
 "nbformat_minor": 5
}
